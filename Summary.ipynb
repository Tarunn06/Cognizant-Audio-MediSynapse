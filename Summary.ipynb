{
  "cells": [
    {
      "cell_type": "code",
      "execution_count": 1,
      "metadata": {
        "id": "tN0wsjbYv3AI"
      },
      "outputs": [
        {
          "name": "stderr",
          "output_type": "stream",
          "text": [
            "ERROR: pip's dependency resolver does not currently take into account all the packages that are installed. This behaviour is the source of the following dependency conflicts.\n",
            "mediapipe 0.10.9 requires protobuf<4,>=3.11, but you have protobuf 4.25.4 which is incompatible.\n",
            "\n",
            "[notice] A new release of pip is available: 24.1.2 -> 24.2\n",
            "[notice] To update, run: python.exe -m pip install --upgrade pip\n"
          ]
        }
      ],
      "source": [
        "!pip install -q -U google-generativeai"
      ]
    },
    {
      "cell_type": "code",
      "execution_count": 5,
      "metadata": {},
      "outputs": [
        {
          "name": "stdout",
          "output_type": "stream",
          "text": [
            "Collecting google.colab\n",
            "  Downloading google-colab-1.0.0.tar.gz (72 kB)\n",
            "     -------------------------------------- 72.9/72.9 kB 666.4 kB/s eta 0:00:00\n",
            "  Preparing metadata (setup.py): started\n",
            "  Preparing metadata (setup.py): finished with status 'error'\n"
          ]
        },
        {
          "name": "stderr",
          "output_type": "stream",
          "text": [
            "  error: subprocess-exited-with-error\n",
            "  \n",
            "  × python setup.py egg_info did not run successfully.\n",
            "  │ exit code: 1\n",
            "  ╰─> [1 lines of output]\n",
            "      ERROR: Can not execute `setup.py` since setuptools is not available in the build environment.\n",
            "      [end of output]\n",
            "  \n",
            "  note: This error originates from a subprocess, and is likely not a problem with pip.\n",
            "error: metadata-generation-failed\n",
            "\n",
            "× Encountered error while generating package metadata.\n",
            "╰─> See above for output.\n",
            "\n",
            "note: This is an issue with the package mentioned above, not pip.\n",
            "hint: See above for details.\n",
            "\n",
            "[notice] A new release of pip is available: 24.1.2 -> 24.2\n",
            "[notice] To update, run: python.exe -m pip install --upgrade pip\n"
          ]
        }
      ],
      "source": [
        "!pip install google.colab "
      ]
    },
    {
      "cell_type": "code",
      "execution_count": 7,
      "metadata": {
        "id": "R-lu55H7wTsY"
      },
      "outputs": [
        {
          "ename": "ModuleNotFoundError",
          "evalue": "No module named 'google.colab'",
          "output_type": "error",
          "traceback": [
            "\u001b[1;31m---------------------------------------------------------------------------\u001b[0m",
            "\u001b[1;31mModuleNotFoundError\u001b[0m                       Traceback (most recent call last)",
            "\u001b[1;32m~\\AppData\\Local\\Temp\\ipykernel_15928\\249003625.py\u001b[0m in \u001b[0;36m<module>\u001b[1;34m\u001b[0m\n\u001b[1;32m----> 1\u001b[1;33m \u001b[1;32mfrom\u001b[0m \u001b[0mgoogle\u001b[0m\u001b[1;33m.\u001b[0m\u001b[0mcolab\u001b[0m \u001b[1;32mimport\u001b[0m \u001b[0muserdata\u001b[0m\u001b[1;33m\u001b[0m\u001b[1;33m\u001b[0m\u001b[0m\n\u001b[0m\u001b[0;32m      2\u001b[0m \u001b[1;32mimport\u001b[0m \u001b[0mgoogle\u001b[0m\u001b[1;33m.\u001b[0m\u001b[0mgenerativeai\u001b[0m \u001b[1;32mas\u001b[0m \u001b[0mgenai\u001b[0m\u001b[1;33m\u001b[0m\u001b[1;33m\u001b[0m\u001b[0m\n",
            "\u001b[1;31mModuleNotFoundError\u001b[0m: No module named 'google.colab'"
          ]
        }
      ],
      "source": [
        "from google.colab import userdata\n",
        "import google.generativeai as genai"
      ]
    },
    {
      "cell_type": "code",
      "execution_count": 12,
      "metadata": {
        "id": "4sMVdBYIwmy9"
      },
      "outputs": [],
      "source": [
        "GOOGLE_API_KEY=userdata.get(\"GOOGLE_API_KEY\")\n",
        "genai.configure(api_key=GOOGLE_API_KEY)"
      ]
    },
    {
      "cell_type": "code",
      "execution_count": 13,
      "metadata": {
        "id": "xE-_0Hpsw4l2"
      },
      "outputs": [],
      "source": [
        "audio_file = genai.upload_file(path=\"sam.mp3\")"
      ]
    },
    {
      "cell_type": "code",
      "execution_count": 14,
      "metadata": {
        "colab": {
          "base_uri": "https://localhost:8080/",
          "height": 311
        },
        "id": "xgigqM-XxQPH",
        "outputId": "ac55acf7-36d9-4c00-dcec-47fbeaa4c2df"
      },
      "outputs": [
        {
          "name": "stdout",
          "output_type": "stream",
          "text": [
            "## Audio Summary: Skills for the Future and the Importance of Coding\n",
            "\n",
            "The audio discusses the important skills for kids to learn in today's world, with a focus on coding. \n",
            "\n",
            "**Key Points:**\n",
            "\n",
            "* **Essential Skills:** The speaker emphasizes the need for children to develop resilience, adaptability, a strong learning capacity, and creativity. Familiarity with technology and tools is also considered crucial.\n",
            "* **Coding:** While some argue that coding is becoming less relevant, the speaker believes it remains an important skill. Learning to code fosters critical thinking abilities, even if the specific coding languages evolve over time.\n",
            "* **Coding's Future:** The speaker acknowledges that coding will change and adapt but maintains its importance as a foundational skill for the future.\n",
            "\n",
            "**Additional Notes:**\n",
            "\n",
            "* The speaker has a personal bias towards coding due to their background.\n",
            "* The conversation implies the existence of new tools that might influence the way coding is done in the future. \n",
            "\n"
          ]
        }
      ],
      "source": [
        "model = genai.GenerativeModel(\"models/gemini-1.5-pro-latest\")\n",
        "\n",
        "response = model.generate_content(\n",
        "    [\n",
        "        \"Please summarize the following audio.\",\n",
        "        audio_file\n",
        "    ]\n",
        ")\n",
        "print(response.text)"
      ]
    },
    {
      "cell_type": "code",
      "execution_count": null,
      "metadata": {
        "id": "q2wTRRM0x_KJ"
      },
      "outputs": [],
      "source": []
    }
  ],
  "metadata": {
    "colab": {
      "provenance": []
    },
    "kernelspec": {
      "display_name": "Python 3",
      "name": "python3"
    },
    "language_info": {
      "codemirror_mode": {
        "name": "ipython",
        "version": 3
      },
      "file_extension": ".py",
      "mimetype": "text/x-python",
      "name": "python",
      "nbconvert_exporter": "python",
      "pygments_lexer": "ipython3",
      "version": "3.9.13"
    }
  },
  "nbformat": 4,
  "nbformat_minor": 0
}
